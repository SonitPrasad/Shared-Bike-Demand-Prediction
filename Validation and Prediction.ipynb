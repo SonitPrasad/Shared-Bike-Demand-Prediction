{
 "cells": [
  {
   "cell_type": "code",
   "execution_count": 1,
   "id": "84d299e2",
   "metadata": {},
   "outputs": [],
   "source": [
    "import pickle\n",
    "import os\n",
    "import pandas as pd\n",
    "import numpy as np"
   ]
  },
  {
   "cell_type": "code",
   "execution_count": 2,
   "id": "c94fb6b4",
   "metadata": {},
   "outputs": [],
   "source": [
    "model_path = r\"D:\\Bike_sharing\\New folder\\xgboost_regressor_r2_0.918_v1.pkl\"\n",
    "model = pickle.load(open(model_path, \"rb\"))"
   ]
  },
  {
   "cell_type": "code",
   "execution_count": 3,
   "id": "c2a73609",
   "metadata": {},
   "outputs": [
    {
     "data": {
      "text/plain": [
       "[166.30936, 1143.4257]"
      ]
     },
     "execution_count": 3,
     "metadata": {},
     "output_type": "execute_result"
    }
   ],
   "source": [
    "data = [[ 1.07807977,  0.22192612,  0.77468297,  1.82005277, -1.26200749,\n",
    "       -0.25194272, -0.12916836, -0.17535463, -0.22754885, -5.47803337,\n",
    "       -1.21546253,  1.00873202,  0.30459857,  1.74132735, -0.58152447,\n",
    "       -0.57866842, -0.39840954, -0.40773843, -0.41815465, -0.40773843,\n",
    "       -0.40559398, -0.41815465],\n",
    "        [-0.65432992,  1.24504573,  0.23697162, -0.5001855 ,  0.56154562,\n",
    "       -0.28664608, -0.12916836, -0.17535463, -0.22754885,  0.18254726,\n",
    "        0.94712104,  0.14077827,  0.30459857, -0.57427456,  1.71961809,\n",
    "       -0.57866842, -0.39840954, -0.40773843, -0.41815465, -0.40773843,\n",
    "        2.4655198 , -0.41815465] \n",
    "]\n",
    "\n",
    "prediction = model.predict(data)\n",
    "list(prediction)"
   ]
  },
  {
   "cell_type": "code",
   "execution_count": 4,
   "id": "a9fd0abc",
   "metadata": {},
   "outputs": [],
   "source": [
    "sc_dump_path = r\"D:\\Bike_sharing\\New folder\\sc.pkl\"\n",
    "sc = pickle.load(open(sc_dump_path, \"rb\"))"
   ]
  },
  {
   "cell_type": "markdown",
   "id": "6943693b",
   "metadata": {},
   "source": [
    "# User Input"
   ]
  },
  {
   "cell_type": "code",
   "execution_count": 5,
   "id": "14bf6082",
   "metadata": {},
   "outputs": [],
   "source": [
    "date = \"10/06/2023\"\n",
    "Hour = 21\n",
    "Temperature = 25\n",
    "Humidity = 55\n",
    "Wind_speed = 67\n",
    "Visibility = 25\n",
    "Solar_Radiation = 0.0\n",
    "Rainfall = 0.7\n",
    "Snowfall = 0.2\n",
    "Seasons = \"Winter\"\n",
    "Holiday = \"No Holiday\"\n",
    "Functioning_Day = \"Yes\""
   ]
  },
  {
   "cell_type": "markdown",
   "id": "70415023",
   "metadata": {},
   "source": [
    "# Converting User Data into Model Consumable Format"
   ]
  },
  {
   "cell_type": "code",
   "execution_count": 6,
   "id": "3f1871da",
   "metadata": {},
   "outputs": [
    {
     "data": {
      "text/plain": [
       "{'day': 10, 'month': 6, 'year': 2023, 'week_day': 'Saturday'}"
      ]
     },
     "execution_count": 6,
     "metadata": {},
     "output_type": "execute_result"
    }
   ],
   "source": [
    "from datetime import datetime\n",
    "\n",
    "Holiday_dic = {\"No Holiday\": 0, \"Holiday\":1}\n",
    "functioning_day_dic = {\"No\":0, \"Yes\":1}\n",
    "\n",
    "def get_string_to_datetime(date):\n",
    "    dt = datetime.strptime(date, \"%d/%m/%Y\")\n",
    "    return {\"day\": dt.day, \"month\": dt.month, \"year\":dt.year, \"week_day\": dt.strftime(\"%A\")}\n",
    "\n",
    "str_to_date = get_string_to_datetime(date)\n",
    "str_to_date"
   ]
  },
  {
   "cell_type": "code",
   "execution_count": 7,
   "id": "da2f366b",
   "metadata": {},
   "outputs": [
    {
     "data": {
      "text/html": [
       "<div>\n",
       "<style scoped>\n",
       "    .dataframe tbody tr th:only-of-type {\n",
       "        vertical-align: middle;\n",
       "    }\n",
       "\n",
       "    .dataframe tbody tr th {\n",
       "        vertical-align: top;\n",
       "    }\n",
       "\n",
       "    .dataframe thead th {\n",
       "        text-align: right;\n",
       "    }\n",
       "</style>\n",
       "<table border=\"1\" class=\"dataframe\">\n",
       "  <thead>\n",
       "    <tr style=\"text-align: right;\">\n",
       "      <th></th>\n",
       "      <th>Hour</th>\n",
       "      <th>Temperature(°C)</th>\n",
       "      <th>Humidity(%)</th>\n",
       "      <th>Wind speed (m/s)</th>\n",
       "      <th>Visibility (10m)</th>\n",
       "      <th>Solar Radiation (MJ/m2)</th>\n",
       "      <th>Rainfall(mm)</th>\n",
       "      <th>Snowfall (cm)</th>\n",
       "      <th>Holiday</th>\n",
       "      <th>Functioning Day</th>\n",
       "      <th>Day</th>\n",
       "      <th>Month</th>\n",
       "      <th>Year</th>\n",
       "    </tr>\n",
       "  </thead>\n",
       "  <tbody>\n",
       "    <tr>\n",
       "      <th>0</th>\n",
       "      <td>21</td>\n",
       "      <td>25</td>\n",
       "      <td>55</td>\n",
       "      <td>67</td>\n",
       "      <td>25</td>\n",
       "      <td>0.0</td>\n",
       "      <td>0.7</td>\n",
       "      <td>0.2</td>\n",
       "      <td>0</td>\n",
       "      <td>1</td>\n",
       "      <td>10</td>\n",
       "      <td>6</td>\n",
       "      <td>2023</td>\n",
       "    </tr>\n",
       "  </tbody>\n",
       "</table>\n",
       "</div>"
      ],
      "text/plain": [
       "   Hour  Temperature(°C)  Humidity(%)  Wind speed (m/s)  Visibility (10m)  \\\n",
       "0    21               25           55                67                25   \n",
       "\n",
       "   Solar Radiation (MJ/m2)  Rainfall(mm)  Snowfall (cm)  Holiday  \\\n",
       "0                      0.0           0.7            0.2        0   \n",
       "\n",
       "   Functioning Day  Day  Month  Year  \n",
       "0                1   10      6  2023  "
      ]
     },
     "execution_count": 7,
     "metadata": {},
     "output_type": "execute_result"
    }
   ],
   "source": [
    "u_input_list = [Hour, Temperature, Humidity, Wind_speed, Visibility, Solar_Radiation, Rainfall, Snowfall,\n",
    "               Holiday_dic[Holiday], functioning_day_dic[Functioning_Day],\n",
    "                str_to_date[\"day\"], str_to_date[\"month\"], str_to_date[\"year\"]]\n",
    "features_name = [\"Hour\", 'Temperature(°C)', 'Humidity(%)',\n",
    "       'Wind speed (m/s)', 'Visibility (10m)', 'Solar Radiation (MJ/m2)',\n",
    "       'Rainfall(mm)', 'Snowfall (cm)', 'Holiday', 'Functioning Day', 'Day','Month', 'Year']\n",
    "\n",
    "df_u_input = pd.DataFrame([u_input_list], columns=features_name)\n",
    "df_u_input"
   ]
  },
  {
   "cell_type": "code",
   "execution_count": 8,
   "id": "acbd6be5",
   "metadata": {},
   "outputs": [
    {
     "data": {
      "text/plain": [
       "[21, 25, 55, 67, 25, 0.0, 0.7, 0.2, 0, 1, 10, 6, 2023]"
      ]
     },
     "execution_count": 8,
     "metadata": {},
     "output_type": "execute_result"
    }
   ],
   "source": [
    "u_input_list"
   ]
  },
  {
   "cell_type": "code",
   "execution_count": 9,
   "id": "e98fd5e3",
   "metadata": {},
   "outputs": [
    {
     "data": {
      "text/plain": [
       "['Hour',\n",
       " 'Temperature(°C)',\n",
       " 'Humidity(%)',\n",
       " 'Wind speed (m/s)',\n",
       " 'Visibility (10m)',\n",
       " 'Solar Radiation (MJ/m2)',\n",
       " 'Rainfall(mm)',\n",
       " 'Snowfall (cm)',\n",
       " 'Holiday',\n",
       " 'Functioning Day',\n",
       " 'Day',\n",
       " 'Month',\n",
       " 'Year']"
      ]
     },
     "execution_count": 9,
     "metadata": {},
     "output_type": "execute_result"
    }
   ],
   "source": [
    "features_name"
   ]
  },
  {
   "cell_type": "code",
   "execution_count": 10,
   "id": "d1068ed4",
   "metadata": {},
   "outputs": [
    {
     "data": {
      "text/html": [
       "<div>\n",
       "<style scoped>\n",
       "    .dataframe tbody tr th:only-of-type {\n",
       "        vertical-align: middle;\n",
       "    }\n",
       "\n",
       "    .dataframe tbody tr th {\n",
       "        vertical-align: top;\n",
       "    }\n",
       "\n",
       "    .dataframe thead th {\n",
       "        text-align: right;\n",
       "    }\n",
       "</style>\n",
       "<table border=\"1\" class=\"dataframe\">\n",
       "  <thead>\n",
       "    <tr style=\"text-align: right;\">\n",
       "      <th></th>\n",
       "      <th>Spring</th>\n",
       "      <th>Summer</th>\n",
       "      <th>Winter</th>\n",
       "    </tr>\n",
       "  </thead>\n",
       "  <tbody>\n",
       "    <tr>\n",
       "      <th>0</th>\n",
       "      <td>0</td>\n",
       "      <td>0</td>\n",
       "      <td>1</td>\n",
       "    </tr>\n",
       "  </tbody>\n",
       "</table>\n",
       "</div>"
      ],
      "text/plain": [
       "   Spring  Summer  Winter\n",
       "0       0       0       1"
      ]
     },
     "execution_count": 10,
     "metadata": {},
     "output_type": "execute_result"
    }
   ],
   "source": [
    "\n",
    "def season_to_df(seasons):\n",
    "    seasons_cols = [\"Spring\", \"Summer\", \"Winter\"]\n",
    "    seasons_data = np.zeros((1, len(seasons_cols)), dtype='int')\n",
    "\n",
    "    df_seasons=pd.DataFrame(seasons_data, columns=seasons_cols)\n",
    "    if seasons in seasons_cols:\n",
    "        df_seasons[seasons]=1\n",
    "    return df_seasons\n",
    "df_seasons = season_to_df(Seasons)\n",
    "df_seasons"
   ]
  },
  {
   "cell_type": "code",
   "execution_count": 11,
   "id": "5e99fc51",
   "metadata": {},
   "outputs": [
    {
     "data": {
      "text/html": [
       "<div>\n",
       "<style scoped>\n",
       "    .dataframe tbody tr th:only-of-type {\n",
       "        vertical-align: middle;\n",
       "    }\n",
       "\n",
       "    .dataframe tbody tr th {\n",
       "        vertical-align: top;\n",
       "    }\n",
       "\n",
       "    .dataframe thead th {\n",
       "        text-align: right;\n",
       "    }\n",
       "</style>\n",
       "<table border=\"1\" class=\"dataframe\">\n",
       "  <thead>\n",
       "    <tr style=\"text-align: right;\">\n",
       "      <th></th>\n",
       "      <th>Monday</th>\n",
       "      <th>Saturday</th>\n",
       "      <th>Sunday</th>\n",
       "      <th>Thursday</th>\n",
       "      <th>Tuesday</th>\n",
       "      <th>Wednesday</th>\n",
       "    </tr>\n",
       "  </thead>\n",
       "  <tbody>\n",
       "    <tr>\n",
       "      <th>0</th>\n",
       "      <td>0</td>\n",
       "      <td>1</td>\n",
       "      <td>0</td>\n",
       "      <td>0</td>\n",
       "      <td>0</td>\n",
       "      <td>0</td>\n",
       "    </tr>\n",
       "  </tbody>\n",
       "</table>\n",
       "</div>"
      ],
      "text/plain": [
       "   Monday  Saturday  Sunday  Thursday  Tuesday  Wednesday\n",
       "0       0         1       0         0        0          0"
      ]
     },
     "execution_count": 11,
     "metadata": {},
     "output_type": "execute_result"
    }
   ],
   "source": [
    "def days_df(week_day):\n",
    "    days_names = ['Monday', 'Saturday', 'Sunday', 'Thursday', 'Tuesday', 'Wednesday']\n",
    "    days_name_data = np.zeros((1, len(days_names)), dtype='int')\n",
    "    \n",
    "    df_days=pd.DataFrame(days_name_data, columns=days_names)\n",
    "    \n",
    "    if week_day in days_names:\n",
    "        df_days[week_day]=1\n",
    "    return df_days\n",
    "\n",
    "df_days = days_df(str_to_date[\"week_day\"])\n",
    "df_days"
   ]
  },
  {
   "cell_type": "code",
   "execution_count": 12,
   "id": "a962d9db",
   "metadata": {},
   "outputs": [
    {
     "data": {
      "text/html": [
       "<div>\n",
       "<style scoped>\n",
       "    .dataframe tbody tr th:only-of-type {\n",
       "        vertical-align: middle;\n",
       "    }\n",
       "\n",
       "    .dataframe tbody tr th {\n",
       "        vertical-align: top;\n",
       "    }\n",
       "\n",
       "    .dataframe thead th {\n",
       "        text-align: right;\n",
       "    }\n",
       "</style>\n",
       "<table border=\"1\" class=\"dataframe\">\n",
       "  <thead>\n",
       "    <tr style=\"text-align: right;\">\n",
       "      <th></th>\n",
       "      <th>Hour</th>\n",
       "      <th>Temperature(°C)</th>\n",
       "      <th>Humidity(%)</th>\n",
       "      <th>Wind speed (m/s)</th>\n",
       "      <th>Visibility (10m)</th>\n",
       "      <th>Solar Radiation (MJ/m2)</th>\n",
       "      <th>Rainfall(mm)</th>\n",
       "      <th>Snowfall (cm)</th>\n",
       "      <th>Holiday</th>\n",
       "      <th>Functioning Day</th>\n",
       "      <th>...</th>\n",
       "      <th>Year</th>\n",
       "      <th>Spring</th>\n",
       "      <th>Summer</th>\n",
       "      <th>Winter</th>\n",
       "      <th>Monday</th>\n",
       "      <th>Saturday</th>\n",
       "      <th>Sunday</th>\n",
       "      <th>Thursday</th>\n",
       "      <th>Tuesday</th>\n",
       "      <th>Wednesday</th>\n",
       "    </tr>\n",
       "  </thead>\n",
       "  <tbody>\n",
       "    <tr>\n",
       "      <th>0</th>\n",
       "      <td>21</td>\n",
       "      <td>25</td>\n",
       "      <td>55</td>\n",
       "      <td>67</td>\n",
       "      <td>25</td>\n",
       "      <td>0.0</td>\n",
       "      <td>0.7</td>\n",
       "      <td>0.2</td>\n",
       "      <td>0</td>\n",
       "      <td>1</td>\n",
       "      <td>...</td>\n",
       "      <td>2023</td>\n",
       "      <td>0</td>\n",
       "      <td>0</td>\n",
       "      <td>1</td>\n",
       "      <td>0</td>\n",
       "      <td>1</td>\n",
       "      <td>0</td>\n",
       "      <td>0</td>\n",
       "      <td>0</td>\n",
       "      <td>0</td>\n",
       "    </tr>\n",
       "  </tbody>\n",
       "</table>\n",
       "<p>1 rows × 22 columns</p>\n",
       "</div>"
      ],
      "text/plain": [
       "   Hour  Temperature(°C)  Humidity(%)  Wind speed (m/s)  Visibility (10m)  \\\n",
       "0    21               25           55                67                25   \n",
       "\n",
       "   Solar Radiation (MJ/m2)  Rainfall(mm)  Snowfall (cm)  Holiday  \\\n",
       "0                      0.0           0.7            0.2        0   \n",
       "\n",
       "   Functioning Day  ...  Year  Spring  Summer  Winter  Monday  Saturday  \\\n",
       "0                1  ...  2023       0       0       1       0         1   \n",
       "\n",
       "   Sunday  Thursday  Tuesday  Wednesday  \n",
       "0       0         0        0          0  \n",
       "\n",
       "[1 rows x 22 columns]"
      ]
     },
     "execution_count": 12,
     "metadata": {},
     "output_type": "execute_result"
    }
   ],
   "source": [
    "df_for_pred = pd.concat([df_u_input, df_seasons, df_days], axis=1)\n",
    "df_for_pred"
   ]
  },
  {
   "cell_type": "code",
   "execution_count": 13,
   "id": "91b95f32",
   "metadata": {},
   "outputs": [
    {
     "name": "stderr",
     "output_type": "stream",
     "text": [
      "C:\\Users\\Sonit Prasad\\anaconda3\\Lib\\site-packages\\sklearn\\base.py:432: UserWarning: X has feature names, but StandardScaler was fitted without feature names\n",
      "  warnings.warn(\n"
     ]
    },
    {
     "data": {
      "text/plain": [
       "array([[ 2.10000000e+01,  2.50000000e+01,  5.50000000e+01,\n",
       "         6.70000000e+01,  2.50000000e+01, -1.72363392e-17,\n",
       "         7.00000000e-01,  2.00000000e-01,  8.11121844e-18,\n",
       "         1.00000000e+00,  1.00000000e+01,  6.00000000e+00,\n",
       "         2.02300000e+03,  2.43336553e-17,  5.57646268e-17,\n",
       "         1.00000000e+00, -4.05560922e-18,  1.00000000e+00,\n",
       "        -4.05560922e-18, -7.09731614e-17,  4.46117014e-17,\n",
       "        -4.05560922e-18]])"
      ]
     },
     "execution_count": 13,
     "metadata": {},
     "output_type": "execute_result"
    }
   ],
   "source": [
    "sc_data_for_pred = sc.transform(df_for_pred)\n",
    "sc_data_for_pred"
   ]
  },
  {
   "cell_type": "code",
   "execution_count": 14,
   "id": "0c265aa2",
   "metadata": {},
   "outputs": [
    {
     "data": {
      "text/plain": [
       "array([351.79074], dtype=float32)"
      ]
     },
     "execution_count": 14,
     "metadata": {},
     "output_type": "execute_result"
    }
   ],
   "source": [
    "model.predict(sc_data_for_pred)"
   ]
  },
  {
   "cell_type": "code",
   "execution_count": 15,
   "id": "bdff319c",
   "metadata": {},
   "outputs": [
    {
     "name": "stdout",
     "output_type": "stream",
     "text": [
      "Rented Bike Demand on date: 10/06/2023, and time: 21 is :352\n"
     ]
    }
   ],
   "source": [
    "print(f\"Rented Bike Demand on date: {date}, and time: {Hour} is :{round(model.predict(sc_data_for_pred).tolist()[0])}\")"
   ]
  },
  {
   "cell_type": "code",
   "execution_count": null,
   "id": "7d50f3b5",
   "metadata": {},
   "outputs": [],
   "source": []
  }
 ],
 "metadata": {
  "kernelspec": {
   "display_name": "Python 3 (ipykernel)",
   "language": "python",
   "name": "python3"
  },
  "language_info": {
   "codemirror_mode": {
    "name": "ipython",
    "version": 3
   },
   "file_extension": ".py",
   "mimetype": "text/x-python",
   "name": "python",
   "nbconvert_exporter": "python",
   "pygments_lexer": "ipython3",
   "version": "3.11.3"
  }
 },
 "nbformat": 4,
 "nbformat_minor": 5
}
